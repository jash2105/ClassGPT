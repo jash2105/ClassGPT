{
 "cells": [
  {
   "cell_type": "code",
   "execution_count": 14,
   "metadata": {},
   "outputs": [
    {
     "name": "stdout",
     "output_type": "stream",
     "text": [
      "Note: you may need to restart the kernel to use updated packages.\n"
     ]
    }
   ],
   "source": [
    "%pip install -Uq llama-index openai langchain"
   ]
  },
  {
   "attachments": {},
   "cell_type": "markdown",
   "metadata": {},
   "source": [
    "## imports"
   ]
  },
  {
   "cell_type": "code",
   "execution_count": 1,
   "metadata": {},
   "outputs": [
    {
     "data": {
      "text/plain": [
       "True"
      ]
     },
     "execution_count": 1,
     "metadata": {},
     "output_type": "execute_result"
    }
   ],
   "source": [
    "import logging\n",
    "import sys\n",
    "\n",
    "logging.basicConfig(stream=sys.stdout, level=logging.INFO)\n",
    "logging.getLogger().addHandler(logging.StreamHandler(stream=sys.stdout))\n",
    "\n",
    "from llama_index import GPTSimpleVectorIndex, download_loader, SimpleDirectoryReader, LLMPredictor\n",
    "from IPython.display import Markdown, display\n",
    "from langchain.llms import OpenAIChat\n",
    "from IPython.display import Markdown, display\n",
    "\n",
    "\n",
    "from pathlib import Path\n",
    "import warnings\n",
    "warnings.filterwarnings('ignore')\n",
    "\n",
    "from dotenv import load_dotenv\n",
    "\n",
    "# load OPENAI API KEY\n",
    "load_dotenv()"
   ]
  },
  {
   "attachments": {},
   "cell_type": "markdown",
   "metadata": {},
   "source": [
    "## data loader"
   ]
  },
  {
   "cell_type": "code",
   "execution_count": 4,
   "metadata": {},
   "outputs": [],
   "source": [
    "PDFReader = download_loader(\"PDFReader\")\n",
    "\n",
    "loader = PDFReader()\n",
    "documents = loader.load_data(file=Path('pdfs/lecture01-intro-2up.pdf'))\n",
    "#print(documents) "
   ]
  },
  {
   "attachments": {},
   "cell_type": "markdown",
   "metadata": {},
   "source": [
    "## manual construction\n",
    "\n",
    "source: https://github.com/emptycrown/llama-hub/blob/main/loader_hub/file/pdf/base.py"
   ]
  },
  {
   "cell_type": "code",
   "execution_count": 2,
   "metadata": {},
   "outputs": [],
   "source": [
    "from pypdf import PdfReader\n",
    "import re\n",
    "from io import BytesIO\n",
    "from llama_index import Document\n",
    "\n",
    "\n",
    "def parse_pdf(file: BytesIO):\n",
    "\n",
    "    pdf = PdfReader(file)\n",
    "    text_list = []\n",
    "    \n",
    "    # Get the number of pages in the PDF document\n",
    "    num_pages = len(pdf.pages)\n",
    "\n",
    "    # Iterate over every page\n",
    "    for page in range(num_pages):\n",
    "        # Extract the text from the page\n",
    "        page_text = pdf.pages[page].extract_text()\n",
    "        text_list.append(page_text)\n",
    "\n",
    "    text = \"\\n\".join(text_list)\n",
    "\n",
    "    return [Document(text)]\n",
    "\n",
    "\n",
    "with open('pdfs/lecture01-intro-2up.pdf', 'rb') as file:\n",
    "    manual_load = parse_pdf(file)"
   ]
  },
  {
   "attachments": {},
   "cell_type": "markdown",
   "metadata": {},
   "source": [
    "## creating index"
   ]
  },
  {
   "cell_type": "code",
   "execution_count": 5,
   "metadata": {},
   "outputs": [
    {
     "name": "stdout",
     "output_type": "stream",
     "text": [
      "INFO:root:> [build_index_from_documents] Total LLM token usage: 0 tokens\n",
      "> [build_index_from_documents] Total LLM token usage: 0 tokens\n",
      "INFO:root:> [build_index_from_documents] Total embedding token usage: 1672 tokens\n",
      "> [build_index_from_documents] Total embedding token usage: 1672 tokens\n"
     ]
    }
   ],
   "source": [
    "index = GPTSimpleVectorIndex(documents)"
   ]
  },
  {
   "cell_type": "code",
   "execution_count": 6,
   "metadata": {},
   "outputs": [],
   "source": [
    "index.save_to_disk('index.json')"
   ]
  },
  {
   "cell_type": "code",
   "execution_count": 3,
   "metadata": {},
   "outputs": [],
   "source": [
    "# load from disk\n",
    "index = GPTSimpleVectorIndex.load_from_disk('index.json')"
   ]
  },
  {
   "attachments": {},
   "cell_type": "markdown",
   "metadata": {},
   "source": [
    "##  query chatgpt"
   ]
  },
  {
   "cell_type": "code",
   "execution_count": 5,
   "metadata": {},
   "outputs": [],
   "source": [
    "# LLM Predictor (gpt-3.5-turbo)\n",
    "llm_predictor = LLMPredictor(llm=OpenAIChat(temperature=0, model_name=\"gpt-3.5-turbo\"))"
   ]
  },
  {
   "cell_type": "code",
   "execution_count": 7,
   "metadata": {},
   "outputs": [
    {
     "name": "stdout",
     "output_type": "stream",
     "text": [
      "INFO:root:> [query] Total LLM token usage: 1865 tokens\n",
      "> [query] Total LLM token usage: 1865 tokens\n",
      "INFO:root:> [query] Total embedding token usage: 9 tokens\n",
      "> [query] Total embedding token usage: 9 tokens\n"
     ]
    }
   ],
   "source": [
    "response = index.query(\n",
    "    \"Summarize this lecture in bullet points?\", \n",
    "    llm_predictor=llm_predictor,\n",
    "    similarity_top_k=3\n",
    ")"
   ]
  },
  {
   "cell_type": "code",
   "execution_count": 8,
   "metadata": {},
   "outputs": [
    {
     "data": {
      "text/markdown": [
       "<b>- Introduction to Artificial Intelligence (AI)\n",
       "- Definition of AI: creating machines that perform intelligent functions\n",
       "- Characteristics of intelligence: perception, action, reasoning, learning, communication, planning\n",
       "- Turing Test for measuring intelligent behavior\n",
       "- Acting rationally: designing rational agents to achieve the best outcome\n",
       "- Brief history of AI: early success, collapse, industry boom and bust, emergence of intelligent agents, deep learning\n",
       "- Strong AI and the concept of singularity\n",
       "- Examples of AI achievements: defeating human champions in chess, checkers, Jeopardy!, Go, and poker; proving mathematical conjectures; controlling spacecraft operations; driverless cars; progress in image and speech recognition, machine translation, and robotic scientists\n",
       "- AI continues to find applications in various fields.</b>"
      ],
      "text/plain": [
       "<IPython.core.display.Markdown object>"
      ]
     },
     "metadata": {},
     "output_type": "display_data"
    }
   ],
   "source": [
    "display(Markdown(f\"<b>{response}</b>\"))"
   ]
  },
  {
   "cell_type": "code",
   "execution_count": 6,
   "metadata": {},
   "outputs": [
    {
     "name": "stdout",
     "output_type": "stream",
     "text": [
      "INFO:root:> [query] Total LLM token usage: 1976 tokens\n",
      "> [query] Total LLM token usage: 1976 tokens\n",
      "INFO:root:> [query] Total embedding token usage: 15 tokens\n",
      "> [query] Total embedding token usage: 15 tokens\n"
     ]
    }
   ],
   "source": [
    "response = index.query(\n",
    "    \"Give me 3 practice questions with answers based on the content of this lecture.\", \n",
    "    llm_predictor=llm_predictor,\n",
    "    similarity_top_k=5\n",
    ")"
   ]
  },
  {
   "cell_type": "code",
   "execution_count": 7,
   "metadata": {},
   "outputs": [
    {
     "data": {
      "text/markdown": [
       "<b>\n",
       "\n",
       "1. What is the definition of AI?\n",
       "Answer: AI stands for Artificial Intelligence, which is the art of creating machines that perform functions that require intelligence when performed by humans. It is the study of the computations that make it possible to perceive, reason, and act.\n",
       "\n",
       "2. What are the four general characteristics of intelligence?\n",
       "Answer: The four general characteristics of intelligence are perception, action, reasoning, and learning. Perception involves the manipulation and interpretation of data provided by sensors, while action involves the control and use of effectors to accomplish a variety of tasks. Reasoning includes deductive (logical) inference and inductive inference, while learning involves adapting behavior to better cope with changing environments, discovery of patterns, learning to reason, plan, and act.\n",
       "\n",
       "3. What are some examples of what AI can do?\n",
       "Answer: AI has achieved many impressive feats, including defeating world champions in games like chess, checkers, and Go, as well as beating human champions on the game show Jeopardy! It has also been used for logistics planning and scheduling in the military, as well as controlling the operations of spacecraft and rovers on Mars. AI has also made great progress in image recognition, speech recognition, machine translation, and driverless cars.</b>"
      ],
      "text/plain": [
       "<IPython.core.display.Markdown object>"
      ]
     },
     "metadata": {},
     "output_type": "display_data"
    }
   ],
   "source": [
    "display(Markdown(f\"<b>{response}</b>\"))"
   ]
  }
 ],
 "metadata": {
  "kernelspec": {
   "display_name": "base",
   "language": "python",
   "name": "python3"
  },
  "language_info": {
   "codemirror_mode": {
    "name": "ipython",
    "version": 3
   },
   "file_extension": ".py",
   "mimetype": "text/x-python",
   "name": "python",
   "nbconvert_exporter": "python",
   "pygments_lexer": "ipython3",
   "version": "3.9.10"
  },
  "orig_nbformat": 4,
  "vscode": {
   "interpreter": {
    "hash": "0f1e841692445df6c0f476977380d4c26cc40d52508098a18c340919add514d9"
   }
  }
 },
 "nbformat": 4,
 "nbformat_minor": 2
}
