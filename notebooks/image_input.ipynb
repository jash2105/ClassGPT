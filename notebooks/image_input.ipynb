{
 "cells": [
  {
   "attachments": {},
   "cell_type": "markdown",
   "metadata": {},
   "source": [
    "source: https://github.com/jerryjliu/llama_index/blob/main/examples/multimodal/Multimodal.ipynb"
   ]
  },
  {
   "cell_type": "code",
   "execution_count": null,
   "metadata": {},
   "outputs": [],
   "source": [
    "%pip install -Uqq llama-index langchain"
   ]
  },
  {
   "cell_type": "code",
   "execution_count": 1,
   "metadata": {},
   "outputs": [],
   "source": [
    "from llama_index import SimpleDirectoryReader, GPTSimpleVectorIndex\n",
    "from llama_index.readers.file.base import (\n",
    "    DEFAULT_FILE_EXTRACTOR, \n",
    "    ImageParser,\n",
    ")\n",
    "from llama_index.response.notebook_utils import (\n",
    "    display_response, \n",
    "    display_image,\n",
    ")\n",
    "from llama_index.indices.query.query_transform.base import (\n",
    "    ImageOutputQueryTransform,\n",
    ")"
   ]
  },
  {
   "cell_type": "code",
   "execution_count": 2,
   "metadata": {},
   "outputs": [],
   "source": [
    "image_parser = ImageParser(parse_text=True)\n",
    "file_extractor = DEFAULT_FILE_EXTRACTOR\n",
    "file_extractor.update(\n",
    "{\n",
    "    \".jpg\": image_parser,\n",
    "    \".png\": image_parser,\n",
    "    \".jpeg\": image_parser,\n",
    "})\n",
    "\n",
    "# NOTE: we add filename as metadata for all documents\n",
    "filename_fn = lambda filename: {'file_name': filename}"
   ]
  },
  {
   "cell_type": "code",
   "execution_count": 3,
   "metadata": {},
   "outputs": [
    {
     "name": "stderr",
     "output_type": "stream",
     "text": [
      "Downloading (…)rocessor_config.json: 100%|██████████| 362/362 [00:00<00:00, 103kB/s]\n",
      "Could not find image processor class in the image processor config or the model config. Loading based on pattern matching with the model's feature extractor configuration.\n",
      "Downloading (…)okenizer_config.json: 100%|██████████| 536/536 [00:00<00:00, 146kB/s]\n",
      "Downloading (…)ncepiece.bpe.model\";: 100%|██████████| 1.30M/1.30M [00:00<00:00, 13.5MB/s]\n",
      "Downloading (…)/main/tokenizer.json: 100%|██████████| 4.02M/4.02M [00:00<00:00, 8.03MB/s]\n",
      "Downloading (…)in/added_tokens.json: 100%|██████████| 1.52k/1.52k [00:00<00:00, 428kB/s]\n",
      "Downloading (…)cial_tokens_map.json: 100%|██████████| 335/335 [00:00<00:00, 118kB/s]\n",
      "Downloading (…)lve/main/config.json: 100%|██████████| 4.74k/4.74k [00:00<00:00, 1.47MB/s]\n",
      "Downloading (…)\"pytorch_model.bin\";: 100%|██████████| 806M/806M [00:21<00:00, 37.1MB/s] \n"
     ]
    }
   ],
   "source": [
    "img_reader = SimpleDirectoryReader(\n",
    "    input_dir='img', \n",
    "    file_extractor=file_extractor, \n",
    "    file_metadata=filename_fn,\n",
    ")\n",
    "imgs = img_reader.load_data()"
   ]
  },
  {
   "cell_type": "code",
   "execution_count": 18,
   "metadata": {},
   "outputs": [
    {
     "name": "stdout",
     "output_type": "stream",
     "text": [
      "('<s_menu><s_nm> IFO broadcast</s_nm><s_cnt> A</s_cnt><s_price> B<sep/><s_nm> '\n",
      " 'ml G</s_nm><s_cnt> 1</s_cnt><s_price> ml</s_price><sep/><s_nm> ml '\n",
      " 'M2</s_nm><s_cnt> 3</s_cnt><s_price> '\n",
      " 'm2</s_price></s_menu><s_sub_total><s_subtotal_price> node must be delivered '\n",
      " 'in the</s_subtotal_price></s_sub_total><s_total><s_total_price> they were '\n",
      " 'sent.</s_total_price></s_total>')\n"
     ]
    }
   ],
   "source": [
    "from pprint import pprint  \n",
    "pprint(imgs[0].text)"
   ]
  },
  {
   "cell_type": "code",
   "execution_count": 4,
   "metadata": {},
   "outputs": [
    {
     "name": "stderr",
     "output_type": "stream",
     "text": [
      "INFO:llama_index.token_counter.token_counter:> [build_index_from_documents] Total LLM token usage: 0 tokens\n",
      "INFO:llama_index.token_counter.token_counter:> [build_index_from_documents] Total embedding token usage: 184 tokens\n"
     ]
    }
   ],
   "source": [
    "imgs_index = GPTSimpleVectorIndex(imgs)"
   ]
  },
  {
   "cell_type": "code",
   "execution_count": 5,
   "metadata": {},
   "outputs": [
    {
     "name": "stderr",
     "output_type": "stream",
     "text": [
      "INFO:llama_index.token_counter.token_counter:> [query] Total LLM token usage: 399 tokens\n",
      "INFO:llama_index.token_counter.token_counter:> [query] Total embedding token usage: 14 tokens\n"
     ]
    }
   ],
   "source": [
    "img_response = imgs_index.query(\n",
    "    'Explain the messages sent in the given diagram about FIFO broadcast',\n",
    "    query_transform=ImageOutputQueryTransform(width=400)\n",
    ")"
   ]
  },
  {
   "cell_type": "code",
   "execution_count": 6,
   "metadata": {},
   "outputs": [
    {
     "data": {
      "text/markdown": [
       "**`Final Response:`** The given diagram is an illustration of a FIFO (First In First Out) broadcast. It shows the order in which messages are sent and received. The diagram shows three messages, each with a name, count, and price. The first message is IFO broadcast with a count of A and a price of B. The second message is ml G with a count of 1 and a price of ml. The third message is ml M2 with a count of 3 and a price of m2. The diagram also shows a subtotal and a total, indicating the total cost of the messages sent. \n",
       "\n",
       "<img src=\"img/fifo.png\" width=\"400\" />"
      ],
      "text/plain": [
       "<IPython.core.display.Markdown object>"
      ]
     },
     "metadata": {},
     "output_type": "display_data"
    },
    {
     "data": {
      "text/markdown": [
       "---"
      ],
      "text/plain": [
       "<IPython.core.display.Markdown object>"
      ]
     },
     "metadata": {},
     "output_type": "display_data"
    },
    {
     "data": {
      "text/markdown": [
       "**`Source Node 1/1`**"
      ],
      "text/plain": [
       "<IPython.core.display.Markdown object>"
      ]
     },
     "metadata": {},
     "output_type": "display_data"
    },
    {
     "data": {
      "text/markdown": [
       "**Document ID:** 7591b551-3524-4726-b769-98f1e66c10b6<br>**Similarity:** 0.8041960290914032<br>**Text:** file_name: img/fifo.png\n",
       "\n",
       "<s_menu><s_nm> IFO broadcast</s_nm><s_cnt> A</s_cnt><s_price> B<sep/><s_...<br>"
      ],
      "text/plain": [
       "<IPython.core.display.Markdown object>"
      ]
     },
     "metadata": {},
     "output_type": "display_data"
    }
   ],
   "source": [
    "display_response(img_response)"
   ]
  }
 ],
 "metadata": {
  "kernelspec": {
   "display_name": "base",
   "language": "python",
   "name": "python3"
  },
  "language_info": {
   "codemirror_mode": {
    "name": "ipython",
    "version": 3
   },
   "file_extension": ".py",
   "mimetype": "text/x-python",
   "name": "python",
   "nbconvert_exporter": "python",
   "pygments_lexer": "ipython3",
   "version": "3.9.10"
  },
  "orig_nbformat": 4
 },
 "nbformat": 4,
 "nbformat_minor": 2
}
