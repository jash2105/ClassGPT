{
 "cells": [
  {
   "attachments": {},
   "cell_type": "markdown",
   "metadata": {},
   "source": [
    "# boto3 S3 operations"
   ]
  },
  {
   "cell_type": "code",
   "execution_count": 2,
   "metadata": {},
   "outputs": [],
   "source": [
    "import boto3"
   ]
  },
  {
   "attachments": {},
   "cell_type": "markdown",
   "metadata": {},
   "source": [
    "## List buckets"
   ]
  },
  {
   "cell_type": "code",
   "execution_count": 34,
   "metadata": {},
   "outputs": [
    {
     "name": "stdout",
     "output_type": "stream",
     "text": [
      "classgpt\n",
      "hackathonfiles123\n",
      "kafka-stock-market-project-ben\n"
     ]
    }
   ],
   "source": [
    "def list_buckets():\n",
    "    s3 = boto3.resource('s3')\n",
    "    for bucket in s3.buckets.all():\n",
    "        print(bucket.name)\n",
    "\n",
    "list_buckets()"
   ]
  },
  {
   "attachments": {},
   "cell_type": "markdown",
   "metadata": {},
   "source": [
    "## list folders in bucket"
   ]
  },
  {
   "cell_type": "code",
   "execution_count": 26,
   "metadata": {},
   "outputs": [
    {
     "data": {
      "text/plain": [
       "{'COMS472', 'CPRE419', 'STAT474'}"
      ]
     },
     "execution_count": 26,
     "metadata": {},
     "output_type": "execute_result"
    }
   ],
   "source": [
    "def list_folders():\n",
    "    bucket = s3.Bucket(\"classgpt\")\n",
    "    folders = set()\n",
    "    for obj in bucket.objects.all():\n",
    "        # split the key by / and take the first element\n",
    "        folders.add(obj.key.split(\"/\")[0])\n",
    "\n",
    "    return folders\n",
    "\n",
    "list_folders()"
   ]
  },
  {
   "attachments": {},
   "cell_type": "markdown",
   "metadata": {},
   "source": [
    "## List files"
   ]
  },
  {
   "cell_type": "code",
   "execution_count": 33,
   "metadata": {},
   "outputs": [
    {
     "name": "stdout",
     "output_type": "stream",
     "text": [
      "defaultdict(<class 'list'>,\n",
      "            {'COMS472': ['lecture01-intro-2up.pdf',\n",
      "                         'lecture02-agents-2up.pdf',\n",
      "                         'lecture03-1-search-2up.pdf',\n",
      "                         'lecture03-2-informedSearch-2up.pdf',\n",
      "                         'lecture04-localSearch-2up.pdf',\n",
      "                         'lecture05-CSP-2up.pdf',\n",
      "                         'lecture06-game-2up.pdf'],\n",
      "             'CPRE419': [''],\n",
      "             'STAT474': ['']})\n"
     ]
    }
   ],
   "source": [
    "from collections import defaultdict\n",
    "from pprint import pprint\n",
    "\n",
    "def list_files():\n",
    "    bucket = s3.Bucket(\"classgpt\")\n",
    "\n",
    "    classes = defaultdict(list)\n",
    "    \n",
    "    # loop through only the parent directory\n",
    "    for obj in bucket.objects.filter():\n",
    "        cname, fname = obj.key.split(\"/\")\n",
    "        if not fname.endswith(\".json\"):\n",
    "            classes[cname].append(fname)\n",
    "\n",
    "    return classes\n",
    "\n",
    "pprint(list_files())"
   ]
  },
  {
   "attachments": {},
   "cell_type": "markdown",
   "metadata": {},
   "source": [
    "## Check if folder exist"
   ]
  },
  {
   "cell_type": "code",
   "execution_count": 48,
   "metadata": {},
   "outputs": [
    {
     "data": {
      "text/plain": [
       "True"
      ]
     },
     "execution_count": 48,
     "metadata": {},
     "output_type": "execute_result"
    }
   ],
   "source": [
    "def folder_exists(folder_name):\n",
    "    s3 = boto3.resource(\"s3\")\n",
    "    bucket = s3.Bucket(\"classgpt\")\n",
    "    for _ in bucket.objects.filter(Prefix=f\"{folder_name}/\"):\n",
    "        return True\n",
    "    return False\n",
    "\n",
    "folder_exists(\"COMS472\")"
   ]
  },
  {
   "cell_type": "code",
   "execution_count": 12,
   "metadata": {},
   "outputs": [
    {
     "data": {
      "text/plain": [
       "False"
      ]
     },
     "execution_count": 12,
     "metadata": {},
     "output_type": "execute_result"
    }
   ],
   "source": [
    "folder_exists(\"test\")"
   ]
  },
  {
   "attachments": {},
   "cell_type": "markdown",
   "metadata": {},
   "source": [
    "## Check if file exist"
   ]
  },
  {
   "cell_type": "code",
   "execution_count": 18,
   "metadata": {},
   "outputs": [
    {
     "data": {
      "text/plain": [
       "True"
      ]
     },
     "execution_count": 18,
     "metadata": {},
     "output_type": "execute_result"
    }
   ],
   "source": [
    "import botocore\n",
    "\n",
    "def file_exists(folder_name, file_name):\n",
    "    s3 = boto3.resource('s3')\n",
    "\n",
    "    try:\n",
    "        s3.Object(\"classgpt\", f\"{folder_name}/{file_name}\").load()\n",
    "        return True\n",
    "    except botocore.exceptions.ClientError as e:\n",
    "        if e.response['Error']['Code'] == \"404\":\n",
    "            return False\n",
    "        else:\n",
    "            raise\n",
    "\n",
    "\n",
    "folder_name = \"COMS472\"\n",
    "file_name = \"lecture01-intro-2up.pdf\"\n",
    "file_exists(folder_name, file_name)"
   ]
  },
  {
   "cell_type": "code",
   "execution_count": 19,
   "metadata": {},
   "outputs": [
    {
     "data": {
      "text/plain": [
       "False"
      ]
     },
     "execution_count": 19,
     "metadata": {},
     "output_type": "execute_result"
    }
   ],
   "source": [
    "folder_name = \"COMS472\"\n",
    "file_name = \"random.pdf\"\n",
    "file_exists(folder_name, file_name)"
   ]
  },
  {
   "attachments": {},
   "cell_type": "markdown",
   "metadata": {},
   "source": [
    "## Create folder"
   ]
  },
  {
   "cell_type": "code",
   "execution_count": 35,
   "metadata": {},
   "outputs": [
    {
     "data": {
      "text/plain": [
       "{'COMS472', 'CPRE419', 'STAT474', 'test'}"
      ]
     },
     "execution_count": 35,
     "metadata": {},
     "output_type": "execute_result"
    }
   ],
   "source": [
    "def create_folder(folder_name):\n",
    "    s3 = boto3.resource(\"s3\")\n",
    "    bucket = s3.Bucket(\"classgpt\")\n",
    "\n",
    "    if not folder_exists(bucket, folder_name):\n",
    "        bucket.put_object(Key=f\"{folder_name}/\")\n",
    "    \n",
    "\n",
    "create_folder(\"test\")\n",
    "list_folders()"
   ]
  },
  {
   "attachments": {},
   "cell_type": "markdown",
   "metadata": {},
   "source": [
    "## Adding files"
   ]
  },
  {
   "cell_type": "code",
   "execution_count": 46,
   "metadata": {},
   "outputs": [
    {
     "data": {
      "text/plain": [
       "defaultdict(list,\n",
       "            {'COMS472': ['lecture01-intro-2up.pdf',\n",
       "              'lecture02-agents-2up.pdf',\n",
       "              'lecture03-1-search-2up.pdf',\n",
       "              'lecture03-2-informedSearch-2up.pdf',\n",
       "              'lecture04-localSearch-2up.pdf',\n",
       "              'lecture05-CSP-2up.pdf',\n",
       "              'lecture06-game-2up.pdf',\n",
       "              'test.pdf'],\n",
       "             'CPRE419': [''],\n",
       "             'STAT474': ['']})"
      ]
     },
     "execution_count": 46,
     "metadata": {},
     "output_type": "execute_result"
    }
   ],
   "source": [
    "def upload_files(file_obj, file_path):\n",
    "    s3 = boto3.resource(\"s3\")\n",
    "    bucket = s3.Bucket(\"classgpt\")\n",
    "\n",
    "    bucket.upload_fileobj(file_obj, file_path)\n",
    "\n",
    "with open(\"pdfs/lecture01-intro-2up.pdf\", \"rb\") as f:\n",
    "    upload_files(f, \"COMS472/test.pdf\")\n",
    "\n",
    "list_files()"
   ]
  },
  {
   "attachments": {},
   "cell_type": "markdown",
   "metadata": {},
   "source": [
    "## remove folder"
   ]
  },
  {
   "cell_type": "code",
   "execution_count": 36,
   "metadata": {},
   "outputs": [
    {
     "data": {
      "text/plain": [
       "{'COMS472', 'CPRE419', 'STAT474'}"
      ]
     },
     "execution_count": 36,
     "metadata": {},
     "output_type": "execute_result"
    }
   ],
   "source": [
    "def remove_folder(folder_name):\n",
    "    s3 = boto3.resource(\"s3\")\n",
    "    bucket = s3.Bucket(\"classgpt\")\n",
    "\n",
    "    if folder_exists(bucket, folder_name):\n",
    "        for key in bucket.objects.filter(Prefix=f\"{folder_name}/\"):\n",
    "            key.delete()\n",
    "\n",
    "remove_folder(\"test\")\n",
    "list_folders()"
   ]
  },
  {
   "attachments": {},
   "cell_type": "markdown",
   "metadata": {},
   "source": [
    "## remove files"
   ]
  },
  {
   "cell_type": "code",
   "execution_count": 47,
   "metadata": {},
   "outputs": [
    {
     "data": {
      "text/plain": [
       "defaultdict(list,\n",
       "            {'COMS472': ['lecture01-intro-2up.pdf',\n",
       "              'lecture02-agents-2up.pdf',\n",
       "              'lecture03-1-search-2up.pdf',\n",
       "              'lecture03-2-informedSearch-2up.pdf',\n",
       "              'lecture04-localSearch-2up.pdf',\n",
       "              'lecture05-CSP-2up.pdf',\n",
       "              'lecture06-game-2up.pdf'],\n",
       "             'CPRE419': [''],\n",
       "             'STAT474': ['']})"
      ]
     },
     "execution_count": 47,
     "metadata": {},
     "output_type": "execute_result"
    }
   ],
   "source": [
    "def remove_file(folder_name, file_name):\n",
    "    s3 = boto3.resource(\"s3\")\n",
    "    bucket = s3.Bucket(\"classgpt\")\n",
    "\n",
    "    if folder_exists(bucket, folder_name):\n",
    "        bucket.objects.filter(Prefix=f\"{folder_name}/{file_name}\").delete(\n",
    "            Delete={\"Objects\": [{\"Key\": f\"{folder_name}/{file_name}\"}]}\n",
    "        )\n",
    "\n",
    "remove_file(\"COMS472\", \"test.pdf\")\n",
    "list_files()"
   ]
  },
  {
   "attachments": {},
   "cell_type": "markdown",
   "metadata": {},
   "source": [
    "## Create a class"
   ]
  },
  {
   "cell_type": "code",
   "execution_count": 62,
   "metadata": {},
   "outputs": [],
   "source": [
    "# create a dataclass titled s3 that implements the methods above\n",
    "\n",
    "class S3:\n",
    "    def __init__(self, bucket_name):\n",
    "        self.bucket_name = bucket_name\n",
    "        self.s3 = boto3.resource(\"s3\")\n",
    "        self.bucket = self.s3.Bucket(bucket_name)\n",
    "\n",
    "    def list_folders(self):\n",
    "        folders = set()\n",
    "        for obj in self.bucket.objects.filter():\n",
    "            folders.add(obj.key.split(\"/\")[0])\n",
    "\n",
    "        return folders\n",
    "\n",
    "    def list_files(self):\n",
    "        classes = defaultdict(list)\n",
    "\n",
    "        # loop through only the parent directory\n",
    "        for obj in self.bucket.objects.filter():\n",
    "            cname, fname = obj.key.split(\"/\")\n",
    "            if not fname.endswith(\".json\"):\n",
    "                classes[cname].append(fname)\n",
    "\n",
    "        return classes\n",
    "\n",
    "    def folder_exists(self, folder_name):\n",
    "        for _ in self.bucket.objects.filter(Prefix=f\"{folder_name}/\"):\n",
    "            return True\n",
    "        return False\n",
    "\n",
    "    def file_exists(self, folder_name, file_name):\n",
    "        try:\n",
    "            self.s3.Object(self.bucket_name, f\"{folder_name}/{file_name}\").load()\n",
    "            return True\n",
    "        except botocore.exceptions.ClientError as e:\n",
    "            if e.response['Error']['Code'] == \"404\":\n",
    "                return False\n",
    "            else:\n",
    "                raise\n",
    "\n",
    "    def create_folder(self, folder_name):\n",
    "        if not self.folder_exists(folder_name):\n",
    "            self.bucket.put_object(Key=f\"{folder_name}/\")\n",
    "\n",
    "    def upload_files(self, file_obj, file_path):\n",
    "        self.bucket.upload_fileobj(file_obj, file_path)\n",
    "\n",
    "    def remove_folder(self, folder_name):\n",
    "        if self.folder_exists(folder_name):\n",
    "            for key in self.bucket.objects.filter(Prefix=f\"{folder_name}/\"):\n",
    "                key.delete()\n",
    "\n",
    "    def remove_file(self, folder_name, file_name):\n",
    "        if self.folder_exists(folder_name):\n",
    "            self.bucket.objects.filter(Prefix=f\"{folder_name}/{file_name}\").delete(\n",
    "                Delete={\"Objects\": [{\"Key\": f\"{folder_name}/{file_name}\"}]}\n",
    "            )"
   ]
  },
  {
   "cell_type": "code",
   "execution_count": 64,
   "metadata": {},
   "outputs": [
    {
     "data": {
      "text/plain": [
       "{'COMS472', 'CPRE419', 'STAT474'}"
      ]
     },
     "execution_count": 64,
     "metadata": {},
     "output_type": "execute_result"
    }
   ],
   "source": [
    "s3 = S3(\"classgpt\")\n",
    "\n",
    "# test all methods\n",
    "s3.list_folders()"
   ]
  },
  {
   "cell_type": "code",
   "execution_count": 56,
   "metadata": {},
   "outputs": [
    {
     "data": {
      "text/plain": [
       "defaultdict(list,\n",
       "            {'COMS472': ['lecture01-intro-2up.pdf',\n",
       "              'lecture02-agents-2up.pdf',\n",
       "              'lecture03-1-search-2up.pdf',\n",
       "              'lecture03-2-informedSearch-2up.pdf',\n",
       "              'lecture04-localSearch-2up.pdf',\n",
       "              'lecture05-CSP-2up.pdf',\n",
       "              'lecture06-game-2up.pdf'],\n",
       "             'CPRE419': [''],\n",
       "             'STAT474': ['']})"
      ]
     },
     "execution_count": 56,
     "metadata": {},
     "output_type": "execute_result"
    }
   ],
   "source": [
    "s3.list_files()"
   ]
  },
  {
   "cell_type": "code",
   "execution_count": 57,
   "metadata": {},
   "outputs": [
    {
     "data": {
      "text/plain": [
       "True"
      ]
     },
     "execution_count": 57,
     "metadata": {},
     "output_type": "execute_result"
    }
   ],
   "source": [
    "s3.folder_exists(\"COMS472\")"
   ]
  },
  {
   "cell_type": "code",
   "execution_count": 58,
   "metadata": {},
   "outputs": [
    {
     "data": {
      "text/plain": [
       "True"
      ]
     },
     "execution_count": 58,
     "metadata": {},
     "output_type": "execute_result"
    }
   ],
   "source": [
    "s3.file_exists(\"COMS472\", \"lecture01-intro-2up.pdf\")"
   ]
  },
  {
   "cell_type": "code",
   "execution_count": 59,
   "metadata": {},
   "outputs": [
    {
     "data": {
      "text/plain": [
       "{'COMS472', 'CPRE419', 'STAT474', 'test'}"
      ]
     },
     "execution_count": 59,
     "metadata": {},
     "output_type": "execute_result"
    }
   ],
   "source": [
    "s3.create_folder(\"test\")\n",
    "s3.list_folders()"
   ]
  },
  {
   "cell_type": "code",
   "execution_count": 60,
   "metadata": {},
   "outputs": [
    {
     "data": {
      "text/plain": [
       "{'COMS472', 'CPRE419', 'STAT474'}"
      ]
     },
     "execution_count": 60,
     "metadata": {},
     "output_type": "execute_result"
    }
   ],
   "source": [
    "s3.remove_folder(\"test\")\n",
    "s3.list_folders()"
   ]
  },
  {
   "cell_type": "code",
   "execution_count": 65,
   "metadata": {},
   "outputs": [
    {
     "data": {
      "text/plain": [
       "defaultdict(list,\n",
       "            {'COMS472': ['lecture01-intro-2up.pdf',\n",
       "              'lecture02-agents-2up.pdf',\n",
       "              'lecture03-1-search-2up.pdf',\n",
       "              'lecture03-2-informedSearch-2up.pdf',\n",
       "              'lecture04-localSearch-2up.pdf',\n",
       "              'lecture05-CSP-2up.pdf',\n",
       "              'lecture06-game-2up.pdf',\n",
       "              'test.pdf'],\n",
       "             'CPRE419': [''],\n",
       "             'STAT474': ['']})"
      ]
     },
     "execution_count": 65,
     "metadata": {},
     "output_type": "execute_result"
    }
   ],
   "source": [
    "with open(\"pdfs/lecture01-intro-2up.pdf\", \"rb\") as f:\n",
    "    s3.upload_files(f, \"COMS472/test.pdf\")\n",
    "s3.list_files()"
   ]
  },
  {
   "cell_type": "code",
   "execution_count": 66,
   "metadata": {},
   "outputs": [
    {
     "data": {
      "text/plain": [
       "defaultdict(list,\n",
       "            {'COMS472': ['lecture01-intro-2up.pdf',\n",
       "              'lecture02-agents-2up.pdf',\n",
       "              'lecture03-1-search-2up.pdf',\n",
       "              'lecture03-2-informedSearch-2up.pdf',\n",
       "              'lecture04-localSearch-2up.pdf',\n",
       "              'lecture05-CSP-2up.pdf',\n",
       "              'lecture06-game-2up.pdf'],\n",
       "             'CPRE419': [''],\n",
       "             'STAT474': ['']})"
      ]
     },
     "execution_count": 66,
     "metadata": {},
     "output_type": "execute_result"
    }
   ],
   "source": [
    "s3.remove_file(\"COMS472\", \"test.pdf\")\n",
    "s3.list_files()"
   ]
  },
  {
   "cell_type": "code",
   "execution_count": null,
   "metadata": {},
   "outputs": [],
   "source": []
  }
 ],
 "metadata": {
  "kernelspec": {
   "display_name": "base",
   "language": "python",
   "name": "python3"
  },
  "language_info": {
   "codemirror_mode": {
    "name": "ipython",
    "version": 3
   },
   "file_extension": ".py",
   "mimetype": "text/x-python",
   "name": "python",
   "nbconvert_exporter": "python",
   "pygments_lexer": "ipython3",
   "version": "3.9.10"
  },
  "orig_nbformat": 4,
  "vscode": {
   "interpreter": {
    "hash": "0f1e841692445df6c0f476977380d4c26cc40d52508098a18c340919add514d9"
   }
  }
 },
 "nbformat": 4,
 "nbformat_minor": 2
}
